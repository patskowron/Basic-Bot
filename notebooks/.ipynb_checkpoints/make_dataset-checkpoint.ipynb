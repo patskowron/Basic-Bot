{
 "cells": [
  {
   "cell_type": "markdown",
   "metadata": {},
   "source": [
    "# Training Data"
   ]
  },
  {
   "cell_type": "markdown",
   "metadata": {},
   "source": [
    "## Parse the Discord Training Data\n",
    "I got a historic record of K's Discord conversations. Currently, I do not have data on the conversations from other users which K's was replying too. "
   ]
  },
  {
   "cell_type": "code",
   "execution_count": 3,
   "metadata": {},
   "outputs": [],
   "source": [
    "import re\n",
    "\n",
    "#Load the Data\n",
    "with open('../data/Kenny-discord-convos.txt', encoding='utf-8') as f:\n",
    "    BasicBot_text = f.readlines()\n"
   ]
  },
  {
   "cell_type": "markdown",
   "metadata": {},
   "source": [
    "I am filtering any automatically generated join and leaving message. I am also replacing any website link with \"<HTTP>\" which I plan to use later to substitute in a relevent website. "
   ]
  },
  {
   "cell_type": "code",
   "execution_count": 4,
   "metadata": {},
   "outputs": [],
   "source": [
    "#Parse the Data\n",
    "BasicBot_text = [ x for x in BasicBot_text if \"has joined the channel\" not in x] #Remove channel joins\n",
    "BasicBot_text = [ x for x in BasicBot_text if \"has left the channel\" not in x] #Remove channel exits\n",
    "BasicBot_text = [ re.sub(\"<https.*?>\", \"<HTTPS>\", x) for x in BasicBot_text] #Replace any http links with <HTTPS>\n",
    "#BasicBot_text = [re.sub(\"\\n$\", \"<|endoftext|>\", x) for x in BasicBot_text] #Signify the end of each message <|endoftext|>\n",
    "#BasicBot_text = [\"<|startoftext|>\" + x for x in BasicBot_text] #Signify the start of each message (<|startoftext|>)\n",
    "BasicBot_text_size=len(\"\".join(BasicBot_text))"
   ]
  },
  {
   "cell_type": "markdown",
   "metadata": {},
   "source": [
    "## Download and Parse a Reddit Conversation Corpus\n",
    "Lets add a little variety to the Basic-Bot using some random comments from Reddit conversations. I've noticed that with Kenny's training data alone, the model either overfits or is a random combination of messages strung together. Lets some percentage of extra text from random reddit messages to make the output more interesting. If we want to give the bot different \"personalities\" we can also try restrict to specific subreddits.\n"
   ]
  },
  {
   "cell_type": "code",
   "execution_count": 6,
   "metadata": {},
   "outputs": [
    {
     "name": "stdout",
     "output_type": "stream",
     "text": [
      "Downloading reddit-corpus-small to C:\\Users\\Patryk\\.convokit\\downloads\\reddit-corpus-small\n",
      "Downloading reddit-corpus-small from http://zissou.infosci.cornell.edu/convokit/datasets/subreddit-corpus/reddit-corpus-small.corpus.zip (37.9MB)... Done\n"
     ]
    }
   ],
   "source": [
    "from convokit import Corpus, download\n",
    "corpus = Corpus(filename=download(\"reddit-corpus-small\"))"
   ]
  },
  {
   "cell_type": "code",
   "execution_count": 7,
   "metadata": {},
   "outputs": [],
   "source": [
    "inject_prop=0.2 #proportion of reddit text to add compared to discord training data\n",
    "char_count=0\n",
    "Reddit_content=[]\n",
    "while char_count < inject_prop*BasicBot_text_size: \n",
    "  newtext=corpus.random_utterance().text +\"\\n\"\n",
    "  char_count = char_count + len(newtext)\n",
    "  Reddit_content.append(newtext)"
   ]
  },
  {
   "cell_type": "code",
   "execution_count": 8,
   "metadata": {},
   "outputs": [],
   "source": [
    "Reddit_content=[x for x in Reddit_content if \"[deleted]\" not in x] #Remove comments flagged as deleted\n",
    "Reddit_content=[x for x in Reddit_content if \"[removed]\" not in x] #Remove comments flagged as removed\n",
    "Reddit_content=[re.sub(r'https?:\\/\\/\\S*', '<HTTPS>', x, flags=re.MULTILINE) for x in Reddit_content] #Replace urls with a generic code"
   ]
  },
  {
   "cell_type": "markdown",
   "metadata": {},
   "source": [
    "## Combine Training Data"
   ]
  },
  {
   "cell_type": "markdown",
   "metadata": {},
   "source": [
    "The final training data consists of the Discord and random Reddit comments shuffled together."
   ]
  },
  {
   "cell_type": "code",
   "execution_count": 9,
   "metadata": {},
   "outputs": [
    {
     "data": {
      "text/plain": [
       "255749"
      ]
     },
     "execution_count": 9,
     "metadata": {},
     "output_type": "execute_result"
    }
   ],
   "source": [
    "import random\n",
    "\n",
    "train_dat = BasicBot_text + Reddit_content\n",
    "random.shuffle(train_dat)\n",
    "train_dat = \"\".join(train_dat)\n",
    "len(train_dat)"
   ]
  },
  {
   "cell_type": "code",
   "execution_count": 10,
   "metadata": {},
   "outputs": [
    {
     "ename": "NameError",
     "evalue": "name 'train_dataset' is not defined",
     "output_type": "error",
     "traceback": [
      "\u001b[1;31m---------------------------------------------------------------------------\u001b[0m",
      "\u001b[1;31mNameError\u001b[0m                                 Traceback (most recent call last)",
      "\u001b[1;32m<ipython-input-10-593857bf911c>\u001b[0m in \u001b[0;36m<module>\u001b[1;34m\u001b[0m\n\u001b[0;32m      4\u001b[0m \u001b[0mpath\u001b[0m \u001b[1;33m=\u001b[0m \u001b[1;34mF\"../data/{training_save_name}\"\u001b[0m\u001b[1;33m\u001b[0m\u001b[1;33m\u001b[0m\u001b[0m\n\u001b[0;32m      5\u001b[0m \u001b[1;32mwith\u001b[0m \u001b[0mopen\u001b[0m\u001b[1;33m(\u001b[0m\u001b[0mpath\u001b[0m\u001b[1;33m,\u001b[0m \u001b[1;34m'wb'\u001b[0m\u001b[1;33m)\u001b[0m \u001b[1;32mas\u001b[0m \u001b[0mf\u001b[0m\u001b[1;33m:\u001b[0m\u001b[1;33m\u001b[0m\u001b[1;33m\u001b[0m\u001b[0m\n\u001b[1;32m----> 6\u001b[1;33m     \u001b[0mpickle\u001b[0m\u001b[1;33m.\u001b[0m\u001b[0mdump\u001b[0m\u001b[1;33m(\u001b[0m\u001b[0mtrain_dataset\u001b[0m\u001b[1;33m,\u001b[0m \u001b[0mf\u001b[0m\u001b[1;33m)\u001b[0m\u001b[1;33m\u001b[0m\u001b[1;33m\u001b[0m\u001b[0m\n\u001b[0m",
      "\u001b[1;31mNameError\u001b[0m: name 'train_dataset' is not defined"
     ]
    }
   ],
   "source": [
    "#Save the train_dataset \n"
   ]
  },
  {
   "cell_type": "code",
   "execution_count": null,
   "metadata": {},
   "outputs": [],
   "source": []
  }
 ],
 "metadata": {
  "kernelspec": {
   "display_name": "Python 3",
   "language": "python",
   "name": "python3"
  },
  "language_info": {
   "codemirror_mode": {
    "name": "ipython",
    "version": 3
   },
   "file_extension": ".py",
   "mimetype": "text/x-python",
   "name": "python",
   "nbconvert_exporter": "python",
   "pygments_lexer": "ipython3",
   "version": "3.8.2"
  }
 },
 "nbformat": 4,
 "nbformat_minor": 4
}
